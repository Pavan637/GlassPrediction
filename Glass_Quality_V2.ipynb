{
 "cells": [
  {
   "cell_type": "code",
   "execution_count": 29,
   "metadata": {},
   "outputs": [],
   "source": [
    "import pandas as pd\n",
    "import numpy as np\n",
    "import os\n",
    "import re"
   ]
  },
  {
   "cell_type": "code",
   "execution_count": 30,
   "metadata": {},
   "outputs": [],
   "source": [
    "from xgboost import XGBClassifier\n",
    "from sklearn.model_selection import cross_val_score\n",
    "from sklearn.model_selection import train_test_split\n",
    "from sklearn.metrics import confusion_matrix\n",
    "from sklearn import metrics\n",
    "from sklearn.metrics import *"
   ]
  },
  {
   "cell_type": "code",
   "execution_count": 31,
   "metadata": {},
   "outputs": [],
   "source": [
    "def model_metrics(y_pred, y_truth):\n",
    "    print('Accuracy: {:.4f}'.format(metrics.accuracy_score(y_truth, y_pred)))\n",
    "    print('Precision: {:.4f}'.format(metrics.precision_score(y_truth, y_pred)))\n",
    "    print('Recall: {:.4f}'.format(metrics.recall_score(y_truth, y_pred)))\n",
    "    print('F1: {:.4f}'.format(metrics.f1_score(y_truth, y_pred)))"
   ]
  },
  {
   "cell_type": "code",
   "execution_count": 32,
   "metadata": {},
   "outputs": [],
   "source": [
    "train_df = pd.read_csv(r\"D:/Hackathons/Glass_Quality_Participants_Data/Train.csv\")\n",
    "test_df = pd.read_csv(r\"D:/Hackathons/Glass_Quality_Participants_Data/Test.csv\")"
   ]
  },
  {
   "cell_type": "code",
   "execution_count": 33,
   "metadata": {},
   "outputs": [
    {
     "name": "stdout",
     "output_type": "stream",
     "text": [
      "Shape of Train: (1358, 16)\n",
      "Shape of Test: (583, 15)\n"
     ]
    }
   ],
   "source": [
    "print(\"Shape of Train:\", train_df.shape)\n",
    "print(\"Shape of Test:\", test_df.shape)"
   ]
  },
  {
   "cell_type": "code",
   "execution_count": 6,
   "metadata": {},
   "outputs": [],
   "source": [
    "train_df['xmean'] = (train_df['xmin'] + train_df['xmax'])/2\n",
    "train_df['ymean'] = (train_df['ymin'] + train_df['ymax'])/2\n",
    "test_df['xmean'] = (test_df['xmin'] + test_df['xmax'])/2\n",
    "test_df['ymean'] = (test_df['ymin'] + test_df['ymax'])/2"
   ]
  },
  {
   "cell_type": "code",
   "execution_count": 34,
   "metadata": {},
   "outputs": [
    {
     "data": {
      "text/plain": [
       "Index(['grade_A_Component_1', 'grade_A_Component_2', 'max_luminosity',\n",
       "       'thickness', 'xmin', 'xmax', 'ymin', 'ymax', 'pixel_area', 'log_area',\n",
       "       'x_component_1', 'x_component_2', 'x_component_3', 'x_component_4',\n",
       "       'x_component_5', 'class'],\n",
       "      dtype='object')"
      ]
     },
     "execution_count": 34,
     "metadata": {},
     "output_type": "execute_result"
    }
   ],
   "source": [
    "train_df.columns"
   ]
  },
  {
   "cell_type": "code",
   "execution_count": 35,
   "metadata": {},
   "outputs": [
    {
     "data": {
      "text/plain": [
       "Index(['grade_A_Component_1', 'grade_A_Component_2', 'max_luminosity',\n",
       "       'thickness', 'xmin', 'xmax', 'ymin', 'ymax', 'pixel_area', 'log_area',\n",
       "       'x_component_1', 'x_component_2', 'x_component_3', 'x_component_4',\n",
       "       'x_component_5'],\n",
       "      dtype='object')"
      ]
     },
     "execution_count": 35,
     "metadata": {},
     "output_type": "execute_result"
    }
   ],
   "source": [
    "test_df.columns"
   ]
  },
  {
   "cell_type": "code",
   "execution_count": 36,
   "metadata": {},
   "outputs": [
    {
     "data": {
      "text/plain": [
       "1    887\n",
       "2    471\n",
       "Name: class, dtype: int64"
      ]
     },
     "execution_count": 36,
     "metadata": {},
     "output_type": "execute_result"
    }
   ],
   "source": [
    "train_df['class'].value_counts()"
   ]
  },
  {
   "cell_type": "code",
   "execution_count": 37,
   "metadata": {},
   "outputs": [],
   "source": [
    "target = train_df['class']"
   ]
  },
  {
   "cell_type": "code",
   "execution_count": 38,
   "metadata": {},
   "outputs": [],
   "source": [
    "X = train_df.drop(['class'], axis = 1)\n",
    "y = train_df['class']"
   ]
  },
  {
   "cell_type": "code",
   "execution_count": 39,
   "metadata": {},
   "outputs": [],
   "source": [
    "from sklearn import preprocessing\n",
    "standardized_X = preprocessing.scale(X)"
   ]
  },
  {
   "cell_type": "code",
   "execution_count": 40,
   "metadata": {},
   "outputs": [],
   "source": [
    "X_train, X_test, y_train, y_test = train_test_split(standardized_X, y, test_size = 0.33)"
   ]
  },
  {
   "cell_type": "code",
   "execution_count": 41,
   "metadata": {},
   "outputs": [
    {
     "data": {
      "text/plain": [
       "(1    591\n",
       " 2    318\n",
       " Name: class, dtype: int64, 0.5099667774086378)"
      ]
     },
     "execution_count": 41,
     "metadata": {},
     "output_type": "execute_result"
    }
   ],
   "source": [
    "y_train.value_counts(), 307/602"
   ]
  },
  {
   "cell_type": "code",
   "execution_count": 16,
   "metadata": {
    "_cell_guid": "9e2fe6a9-8de0-4bbd-8264-f6b78e7993e2",
    "_uuid": "6c8659049537836fdf00d19d6d656630a306d217",
    "colab": {
     "base_uri": "https://localhost:8080/",
     "height": 51
    },
    "colab_type": "code",
    "id": "Ce_Eu4CrCOIu",
    "outputId": "042067e3-a5ad-4f5a-c727-0581878fdd86"
   },
   "outputs": [
    {
     "name": "stderr",
     "output_type": "stream",
     "text": [
      "Using TensorFlow backend.\n"
     ]
    },
    {
     "name": "stdout",
     "output_type": "stream",
     "text": [
      "Original dataset shape Counter({1: 594, 2: 594})\n"
     ]
    }
   ],
   "source": [
    "from imblearn.over_sampling import RandomOverSampler\n",
    "from collections import Counter\n",
    "ros = RandomOverSampler()\n",
    "X_ros, y_ros = ros.fit_sample(X_train, y_train)\n",
    "print('Original dataset shape %s' % Counter(y_ros))"
   ]
  },
  {
   "cell_type": "code",
   "execution_count": 44,
   "metadata": {},
   "outputs": [
    {
     "name": "stdout",
     "output_type": "stream",
     "text": [
      "====Train Metrics====\n",
      "Accuracy: 0.8823\n",
      "Precision: 0.9276\n",
      "Recall: 0.8883\n",
      "F1: 0.9075\n",
      "None\n",
      "====Test Metrics====\n",
      "Accuracy: 0.8597\n",
      "Precision: 0.9267\n",
      "Recall: 0.8547\n",
      "F1: 0.8893\n",
      "None\n"
     ]
    }
   ],
   "source": [
    "import xgboost as xgb\n",
    "xgb_IF = xgb.XGBClassifier(scale_pos_weight = 1)\n",
    "xgb_IF.fit(X_train, y_train)\n",
    "XGB_Train_Preds = xgb_IF.predict(X_train)\n",
    "XGB_Test_Preds = xgb_IF.predict(X_test)\n",
    "print(\"====Train Metrics====\")\n",
    "print(model_metrics(XGB_Train_Preds, y_train))\n",
    "print(\"====Test Metrics====\")\n",
    "print(model_metrics(XGB_Test_Preds, y_test))"
   ]
  },
  {
   "cell_type": "code",
   "execution_count": 15,
   "metadata": {},
   "outputs": [],
   "source": [
    "import xgboost as xgb\n",
    "from sklearn.model_selection import RandomizedSearchCV\n",
    "from sklearn.model_selection import StratifiedKFold\n",
    "xgb = xgb.XGBClassifier(objective='binary:logistic')\n",
    "\n",
    "folds = 5\n",
    "param_comb = 50\n",
    "\n",
    "skf = StratifiedKFold(n_splits=folds, shuffle = True, random_state = 1001)\n",
    "\n",
    "params = {\n",
    "        'base_score':[0.5, 0.6],\n",
    "        'min_child_weight': [1, 5, 10],\n",
    "        'gamma': [1, 1.5, 2, 2.5, 3],\n",
    "        'learning_rate': [0.01,0.1, 0.125],\n",
    "        'subsample': [0.7, 0.8, 0.9],\n",
    "        'colsample_bytree': [0.7, 0.8, 0.9],\n",
    "        'max_depth': [6, 8, 12, 22],\n",
    "        'n_estimators': [100, 150, 250],\n",
    "        #'scale_pos_weight' :[0.5, 0.6, 1],\n",
    "        'eval_metric' :['logloss'],\n",
    "        'reg_alpha': [0, 1], \n",
    "        'reg_lambda': [0, 1]\n",
    "        }\n",
    "\n",
    "random_search = RandomizedSearchCV(xgb, param_distributions = params, n_iter = param_comb, scoring = 'roc_auc',\n",
    "                                   cv=skf.split(X_ros, y_ros), verbose=1, random_state=43)"
   ]
  },
  {
   "cell_type": "code",
   "execution_count": 16,
   "metadata": {},
   "outputs": [
    {
     "name": "stdout",
     "output_type": "stream",
     "text": [
      "Fitting 5 folds for each of 50 candidates, totalling 250 fits\n"
     ]
    },
    {
     "name": "stderr",
     "output_type": "stream",
     "text": [
      "[Parallel(n_jobs=1)]: Using backend SequentialBackend with 1 concurrent workers.\n",
      "[Parallel(n_jobs=1)]: Done 250 out of 250 | elapsed:  3.0min finished\n"
     ]
    },
    {
     "name": "stdout",
     "output_type": "stream",
     "text": [
      "This took 183.79 seconds\n"
     ]
    }
   ],
   "source": [
    "from time import time\n",
    "start = time()\n",
    "random_search.fit(X_ros, y_ros)\n",
    "end = time()\n",
    "print (\"This took %.2f seconds\" % (end - start))"
   ]
  },
  {
   "cell_type": "code",
   "execution_count": 17,
   "metadata": {},
   "outputs": [
    {
     "name": "stdout",
     "output_type": "stream",
     "text": [
      "\n",
      " Best estimator:\n",
      "XGBClassifier(base_score=0.6, booster='gbtree', colsample_bylevel=1,\n",
      "              colsample_bynode=1, colsample_bytree=0.7, eval_metric='logloss',\n",
      "              gamma=1, learning_rate=0.01, max_delta_step=0, max_depth=22,\n",
      "              min_child_weight=1, missing=None, n_estimators=150, n_jobs=1,\n",
      "              nthread=None, objective='binary:logistic', random_state=0,\n",
      "              reg_alpha=0, reg_lambda=0, scale_pos_weight=1, seed=None,\n",
      "              silent=None, subsample=0.7, verbosity=1)\n",
      "\n",
      " Best normalized gini score for 5-fold search with 50 parameter combinations:\n",
      "0.9485538328438405\n",
      "\n",
      " Best hyperparameters:\n",
      "{'subsample': 0.7, 'reg_lambda': 0, 'reg_alpha': 0, 'n_estimators': 150, 'min_child_weight': 1, 'max_depth': 22, 'learning_rate': 0.01, 'gamma': 1, 'eval_metric': 'logloss', 'colsample_bytree': 0.7, 'base_score': 0.6}\n"
     ]
    }
   ],
   "source": [
    "print('\\n Best estimator:')\n",
    "print(random_search.best_estimator_)\n",
    "print('\\n Best normalized gini score for %d-fold search with %d parameter combinations:' % (folds, param_comb))\n",
    "print(random_search.best_score_ * 2 - 1)\n",
    "print('\\n Best hyperparameters:')\n",
    "print(random_search.best_params_)\n",
    "results = pd.DataFrame(random_search.cv_results_)"
   ]
  },
  {
   "cell_type": "code",
   "execution_count": 18,
   "metadata": {},
   "outputs": [
    {
     "name": "stdout",
     "output_type": "stream",
     "text": [
      "====Train Metrics====\n",
      "Accuracy: 0.9925\n",
      "Precision: 1.0000\n",
      "Recall: 0.9851\n",
      "F1: 0.9925\n",
      "None\n",
      "====Test Metrics====\n",
      "Accuracy: 0.8374\n",
      "Precision: 0.8860\n",
      "Recall: 0.8516\n",
      "F1: 0.8685\n",
      "None\n"
     ]
    }
   ],
   "source": [
    "import xgboost as xgb\n",
    "xgb_IF = xgb.XGBClassifier(subsample = 0.7, n_estimators = 150, min_child_weight = 1, max_depth = 22, \n",
    "                        learning_rate = 0.01, gamma = 1, colsample_bytree = 0.7, eval_metric = 'logloss', base_score = 0.6,\n",
    "                         reg_lambda = 0, reg_alpha = 0)\n",
    "xgb_IF.fit(X_ros, y_ros)\n",
    "XGB_Train_Preds = xgb_IF.predict(X_ros)\n",
    "XGB_Test_Preds = xgb_IF.predict(X_test)\n",
    "print(\"====Train Metrics====\")\n",
    "print(model_metrics(XGB_Train_Preds, y_ros))\n",
    "print(\"====Test Metrics====\")\n",
    "print(model_metrics(XGB_Test_Preds, y_test))"
   ]
  },
  {
   "cell_type": "code",
   "execution_count": 45,
   "metadata": {},
   "outputs": [
    {
     "data": {
      "text/plain": [
       "21.000677607815277"
      ]
     },
     "execution_count": 45,
     "metadata": {},
     "output_type": "execute_result"
    }
   ],
   "source": [
    "log_loss(XGB_Test_Preds, y_test)"
   ]
  },
  {
   "cell_type": "code",
   "execution_count": 46,
   "metadata": {},
   "outputs": [
    {
     "name": "stdout",
     "output_type": "stream",
     "text": [
      "              precision    recall  f1-score   support\n",
      "\n",
      "           1       0.85      0.93      0.89       273\n",
      "           2       0.87      0.76      0.81       176\n",
      "\n",
      "    accuracy                           0.86       449\n",
      "   macro avg       0.86      0.84      0.85       449\n",
      "weighted avg       0.86      0.86      0.86       449\n",
      "\n"
     ]
    }
   ],
   "source": [
    "print(classification_report(XGB_Test_Preds, y_test, [1,2]))"
   ]
  },
  {
   "cell_type": "code",
   "execution_count": 20,
   "metadata": {},
   "outputs": [
    {
     "data": {
      "text/plain": [
       "1    293\n",
       "2    156\n",
       "Name: class, dtype: int64"
      ]
     },
     "execution_count": 20,
     "metadata": {},
     "output_type": "execute_result"
    }
   ],
   "source": [
    "y_test.value_counts()"
   ]
  },
  {
   "cell_type": "code",
   "execution_count": 21,
   "metadata": {},
   "outputs": [
    {
     "data": {
      "text/plain": [
       "1    594\n",
       "2    315\n",
       "Name: class, dtype: int64"
      ]
     },
     "execution_count": 21,
     "metadata": {},
     "output_type": "execute_result"
    }
   ],
   "source": [
    "y_train.value_counts()"
   ]
  },
  {
   "cell_type": "markdown",
   "metadata": {},
   "source": [
    "#### Predictions on test"
   ]
  },
  {
   "cell_type": "code",
   "execution_count": 47,
   "metadata": {},
   "outputs": [],
   "source": [
    "standardized_test = preprocessing.scale(test_df)"
   ]
  },
  {
   "cell_type": "code",
   "execution_count": 48,
   "metadata": {},
   "outputs": [],
   "source": [
    "Test_Preds = xgb_IF.predict_proba(standardized_test)"
   ]
  },
  {
   "cell_type": "code",
   "execution_count": 49,
   "metadata": {},
   "outputs": [],
   "source": [
    "Results = pd.DataFrame(Test_Preds, columns=['1', '2'])"
   ]
  },
  {
   "cell_type": "code",
   "execution_count": 50,
   "metadata": {},
   "outputs": [],
   "source": [
    "Results.to_excel(\"XGB_Default_OS1.xlsx\", index = False)"
   ]
  },
  {
   "cell_type": "code",
   "execution_count": 85,
   "metadata": {},
   "outputs": [
    {
     "data": {
      "text/html": [
       "<div>\n",
       "<style scoped>\n",
       "    .dataframe tbody tr th:only-of-type {\n",
       "        vertical-align: middle;\n",
       "    }\n",
       "\n",
       "    .dataframe tbody tr th {\n",
       "        vertical-align: top;\n",
       "    }\n",
       "\n",
       "    .dataframe thead th {\n",
       "        text-align: right;\n",
       "    }\n",
       "</style>\n",
       "<table border=\"1\" class=\"dataframe\">\n",
       "  <thead>\n",
       "    <tr style=\"text-align: right;\">\n",
       "      <th></th>\n",
       "      <th>1</th>\n",
       "      <th>2</th>\n",
       "    </tr>\n",
       "  </thead>\n",
       "  <tbody>\n",
       "    <tr>\n",
       "      <th>0</th>\n",
       "      <td>0.994018</td>\n",
       "      <td>0.005982</td>\n",
       "    </tr>\n",
       "    <tr>\n",
       "      <th>1</th>\n",
       "      <td>0.055940</td>\n",
       "      <td>0.944060</td>\n",
       "    </tr>\n",
       "    <tr>\n",
       "      <th>2</th>\n",
       "      <td>0.989115</td>\n",
       "      <td>0.010885</td>\n",
       "    </tr>\n",
       "    <tr>\n",
       "      <th>3</th>\n",
       "      <td>0.992945</td>\n",
       "      <td>0.007055</td>\n",
       "    </tr>\n",
       "    <tr>\n",
       "      <th>4</th>\n",
       "      <td>0.688947</td>\n",
       "      <td>0.311053</td>\n",
       "    </tr>\n",
       "  </tbody>\n",
       "</table>\n",
       "</div>"
      ],
      "text/plain": [
       "          1         2\n",
       "0  0.994018  0.005982\n",
       "1  0.055940  0.944060\n",
       "2  0.989115  0.010885\n",
       "3  0.992945  0.007055\n",
       "4  0.688947  0.311053"
      ]
     },
     "execution_count": 85,
     "metadata": {},
     "output_type": "execute_result"
    }
   ],
   "source": [
    "Results.head()"
   ]
  },
  {
   "cell_type": "code",
   "execution_count": 86,
   "metadata": {},
   "outputs": [],
   "source": [
    "# v1 PL: 0.26284 Log Loss: 22.462263228872022 \n",
    "#xgb_IF = xgb.XGBClassifier(subsample = 0.9, scale_pos_weight = 1, n_estimators = 250, min_child_weight = 1, max_depth = 8, \n",
    "#                        learning_rate = 0.1, gamma = 2.5, colsample_bytree = 0.8)\n",
    "# v2 PL: 0.28173 Log Loss: 23.XXXX\n"
   ]
  },
  {
   "cell_type": "code",
   "execution_count": null,
   "metadata": {},
   "outputs": [],
   "source": [
    "#subsample = 0.9, scale_pos_weight = 1, n_estimators = 250, min_child_weight = 1, max_depth = 8, \n",
    "#                        learning_rate = 0.1, gamma = 2, colsample_bytree = 0.9\n",
    "# 22.077635433857086\n",
    "# 0.27168"
   ]
  },
  {
   "cell_type": "code",
   "execution_count": null,
   "metadata": {},
   "outputs": [],
   "source": [
    "# v4 \n",
    "# xmean, ymean\n",
    "#subsample = 0.9, scale_pos_weight = 1, n_estimators = 250, min_child_weight = 1, max_depth = 12, \n",
    "#learning_rate = 0.01, gamma = 2, colsample_bytree = 0.8, eval_metric = 'logloss'\n",
    "# logloss: 21.769933197845145\n",
    "# LB: 0.31670"
   ]
  },
  {
   "cell_type": "code",
   "execution_count": null,
   "metadata": {},
   "outputs": [],
   "source": [
    "# XGB_Scale_PT_v5.xlsx\n",
    "# Oversampling\n",
    "# Xmean and ymean\n",
    "# PL 0.30803"
   ]
  },
  {
   "cell_type": "code",
   "execution_count": null,
   "metadata": {},
   "outputs": [],
   "source": [
    "# XGB_Scale_PT_v6.xlsx\n",
    "# Oversampling\n",
    "# PL 0.30073\n",
    "{'subsample': 0.7, 'n_estimators': 250, 'min_child_weight': 1, 'max_depth': 22, 'learning_rate': 0.1, \n",
    " 'gamma': 1, 'eval_metric': 'logloss', 'colsample_bytree': 0.8, 'base_score': 0.6}"
   ]
  },
  {
   "cell_type": "code",
   "execution_count": null,
   "metadata": {},
   "outputs": [],
   "source": [
    "# XGB_Scale_PT_v7.xlsx PL 0.29093\n",
    "# Xmean and ymean\n",
    "{'subsample': 0.9, 'scale_pos_weight': 1, 'reg_lambda': 0, 'reg_alpha': 0, 'n_estimators': 100, 'min_child_weight': 1, 'max_depth': 12, 'learning_rate': 0.125, 'gamma': 3, \n",
    " 'eval_metric': 'logloss', 'colsample_bytree': 0.8, 'base_score': 0.6}"
   ]
  },
  {
   "cell_type": "code",
   "execution_count": null,
   "metadata": {},
   "outputs": [],
   "source": [
    "#XGB_Scale_PT_v8 PPL 0.28471\n",
    "# Original - no added features\n",
    "{'subsample': 0.9, 'scale_pos_weight': 1, 'reg_lambda': 0, 'reg_alpha': 0, 'n_estimators': 100, 'min_child_weight': 1, 'max_depth': 12, 'learning_rate': 0.125, 'gamma': 3,\n",
    " 'eval_metric': 'logloss', 'colsample_bytree': 0.8, 'base_score': 0.6}\n",
    "\n",
    "# XGB_Scale_PT_v9  PL 0.31666\n",
    "# Added features, ROS\n",
    "{'subsample': 0.7, 'reg_lambda': 0, 'reg_alpha': 0, 'n_estimators': 150, 'min_child_weight': 1, 'max_depth': 22, 'learning_rate': 0.01, 'gamma': 1, \n",
    " 'eval_metric': 'logloss', 'colsample_bytree': 0.7, 'base_score': 0.6}"
   ]
  }
 ],
 "metadata": {
  "accelerator": "GPU",
  "colab": {
   "collapsed_sections": [],
   "name": "Starter Notebook - Movie Genre Classification",
   "provenance": []
  },
  "kernelspec": {
   "display_name": "Python 3",
   "language": "python",
   "name": "python3"
  },
  "language_info": {
   "codemirror_mode": {
    "name": "ipython",
    "version": 3
   },
   "file_extension": ".py",
   "mimetype": "text/x-python",
   "name": "python",
   "nbconvert_exporter": "python",
   "pygments_lexer": "ipython3",
   "version": "3.7.3"
  }
 },
 "nbformat": 4,
 "nbformat_minor": 1
}
